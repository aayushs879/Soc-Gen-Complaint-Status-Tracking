{
  "nbformat": 4,
  "nbformat_minor": 0,
  "metadata": {
    "colab": {
      "name": "test_soc-gen.ipynb",
      "version": "0.3.2",
      "provenance": [],
      "include_colab_link": true
    },
    "kernelspec": {
      "name": "python3",
      "display_name": "Python 3"
    }
  },
  "cells": [
    {
      "cell_type": "markdown",
      "metadata": {
        "id": "view-in-github",
        "colab_type": "text"
      },
      "source": [
        "<a href=\"https://colab.research.google.com/github/aayushs879/Soc-Gen-Complaint-Status-Tracking/blob/master/test_soc_gen.ipynb\" target=\"_parent\"><img src=\"https://colab.research.google.com/assets/colab-badge.svg\" alt=\"Open In Colab\"/></a>"
      ]
    },
    {
      "metadata": {
        "id": "orkYIMheEpLi",
        "colab_type": "code",
        "colab": {
          "base_uri": "https://localhost:8080/",
          "height": 35
        },
        "outputId": "42f23175-fd36-4bbd-e4b8-9e807e075879"
      },
      "cell_type": "code",
      "source": [
        "from google.colab import drive\n",
        "drive.mount('/content/gdrive')\n",
        "\n",
        "import os \n",
        "path = os.path.abspath('/content/gdrive/My Drive/HackerEarth/Soc-Gen')"
      ],
      "execution_count": 11,
      "outputs": [
        {
          "output_type": "stream",
          "text": [
            "Drive already mounted at /content/gdrive; to attempt to forcibly remount, call drive.mount(\"/content/gdrive\", force_remount=True).\n"
          ],
          "name": "stdout"
        }
      ]
    },
    {
      "metadata": {
        "id": "C8Gp2SCsE3wM",
        "colab_type": "code",
        "colab": {}
      },
      "cell_type": "code",
      "source": [
        "import pandas as pd\n",
        "import numpy as np\n",
        "import nltk\n",
        "import pickle\n",
        "import matplotlib.pyplot as plt"
      ],
      "execution_count": 0,
      "outputs": []
    },
    {
      "metadata": {
        "id": "qcE8a2PqHZuL",
        "colab_type": "code",
        "colab": {}
      },
      "cell_type": "code",
      "source": [
        ""
      ],
      "execution_count": 0,
      "outputs": []
    },
    {
      "metadata": {
        "id": "BaZ9_4kLHj8K",
        "colab_type": "code",
        "colab": {
          "base_uri": "https://localhost:8080/",
          "height": 899
        },
        "outputId": "d2a0b638-159c-4102-cf05-ef78520660ee"
      },
      "cell_type": "code",
      "source": [
        "test = pd.read_csv(os.path.join(path, 'test.csv'))\n",
        "print(test.columns)\n",
        "print(test.head())\n",
        "print(test.nunique())\n",
        "print(test.isnull().sum())"
      ],
      "execution_count": 15,
      "outputs": [
        {
          "output_type": "stream",
          "text": [
            "Index(['Complaint-ID', 'Date-received', 'Transaction-Type', 'Complaint-reason',\n",
            "       'Company-response', 'Date-sent-to-company', 'Consumer-disputes',\n",
            "       'Consumer-complaint-summary'],\n",
            "      dtype='object')\n",
            "  Complaint-ID Date-received         Transaction-Type  \\\n",
            "0         Te-1     8/18/2016  Bank account or service   \n",
            "1         Te-2     4/18/2016          Debt collection   \n",
            "2         Te-3     3/23/2016         Credit reporting   \n",
            "3         Te-4     6/26/2017             Student loan   \n",
            "4         Te-5     5/13/2016         Credit reporting   \n",
            "\n",
            "                          Complaint-reason  \\\n",
            "0  Account opening, closing, or management   \n",
            "1                    Communication tactics   \n",
            "2   Incorrect information on credit report   \n",
            "3     Dealing with your lender or servicer   \n",
            "4   Incorrect information on credit report   \n",
            "\n",
            "                                    Company-response Date-sent-to-company  \\\n",
            "0  Company has responded to the consumer and the ...            8/18/2016   \n",
            "1  Company believes it acted appropriately as aut...            4/20/2016   \n",
            "2                                                NaN            3/23/2016   \n",
            "3                                                NaN            6/26/2017   \n",
            "4  Company has responded to the consumer and the ...            5/13/2016   \n",
            "\n",
            "  Consumer-disputes                         Consumer-complaint-summary  \n",
            "0                No  XXXX / XXXX / 16 I called Citibank to open a c...  \n",
            "1                No  I'm struggling financially. I called and I off...  \n",
            "2                No  In XXXX of 2015, an automatic payment was conf...  \n",
            "3               NaN  I submitted a request to XXXX, which is my cur...  \n",
            "4                No  A state tax lien was filed against me XXXX / X...  \n",
            "Complaint-ID                  18543\n",
            "Date-received                   914\n",
            "Transaction-Type                 18\n",
            "Complaint-reason                147\n",
            "Company-response                 10\n",
            "Date-sent-to-company            914\n",
            "Consumer-disputes                 2\n",
            "Consumer-complaint-summary    18485\n",
            "dtype: int64\n",
            "Complaint-ID                     0\n",
            "Date-received                    0\n",
            "Transaction-Type                 0\n",
            "Complaint-reason                 0\n",
            "Company-response              9701\n",
            "Date-sent-to-company             0\n",
            "Consumer-disputes             3304\n",
            "Consumer-complaint-summary       0\n",
            "dtype: int64\n"
          ],
          "name": "stdout"
        }
      ]
    },
    {
      "metadata": {
        "id": "rZ4Bqr1aH6HX",
        "colab_type": "code",
        "colab": {}
      },
      "cell_type": "code",
      "source": [
        "languages = []\n",
        "for i in range(len(test)):\n",
        "  languages.append(detect(test['Consumer-complaint-summary']))"
      ],
      "execution_count": 0,
      "outputs": []
    },
    {
      "metadata": {
        "id": "zesZ6kYKH1tP",
        "colab_type": "code",
        "colab": {}
      },
      "cell_type": "code",
      "source": [
        ""
      ],
      "execution_count": 0,
      "outputs": []
    }
  ]
}