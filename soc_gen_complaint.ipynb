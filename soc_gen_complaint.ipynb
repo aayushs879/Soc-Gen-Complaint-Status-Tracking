{
  "nbformat": 4,
  "nbformat_minor": 0,
  "metadata": {
    "colab": {
      "name": "soc-gen_complaint.ipynb",
      "version": "0.3.2",
      "provenance": [],
      "collapsed_sections": [],
      "include_colab_link": true
    },
    "kernelspec": {
      "name": "python3",
      "display_name": "Python 3"
    },
    "accelerator": "GPU"
  },
  "cells": [
    {
      "cell_type": "markdown",
      "metadata": {
        "id": "view-in-github",
        "colab_type": "text"
      },
      "source": [
        "<a href=\"https://colab.research.google.com/github/aayushs879/Soc-Gen-Complaint-Status-Tracking/blob/master/soc_gen_complaint.ipynb\" target=\"_parent\"><img src=\"https://colab.research.google.com/assets/colab-badge.svg\" alt=\"Open In Colab\"/></a>"
      ]
    },
    {
      "metadata": {
        "id": "0ERCxxJb-x3N",
        "colab_type": "code",
        "outputId": "f3f447c7-e954-41c5-ec5c-3f8e00db909d",
        "colab": {
          "resources": {
            "http://localhost:8080/nbextensions/google.colab/files.js": {
              "data": "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",
              "ok": true,
              "headers": [
                [
                  "content-type",
                  "application/javascript"
                ]
              ],
              "status": 200,
              "status_text": ""
            }
          },
          "base_uri": "https://localhost:8080/",
          "height": 197
        }
      },
      "cell_type": "code",
      "source": [
        "from google.colab import files\n",
        "\n",
        "uploaded = files.upload()\n",
        "\n",
        "for fn in uploaded.keys():\n",
        "  print('User uploaded file \"{name}\" with length {length} bytes'.format(\n",
        "      name=fn, length=len(uploaded[fn])))"
      ],
      "execution_count": 0,
      "outputs": [
        {
          "output_type": "display_data",
          "data": {
            "text/html": [
              "\n",
              "     <input type=\"file\" id=\"files-452435b7-3421-4559-a475-2332901fa82f\" name=\"files[]\" multiple disabled />\n",
              "     <output id=\"result-452435b7-3421-4559-a475-2332901fa82f\">\n",
              "      Upload widget is only available when the cell has been executed in the\n",
              "      current browser session. Please rerun this cell to enable.\n",
              "      </output>\n",
              "      <script src=\"/nbextensions/google.colab/files.js\"></script> "
            ],
            "text/plain": [
              "<IPython.core.display.HTML object>"
            ]
          },
          "metadata": {
            "tags": []
          }
        },
        {
          "output_type": "stream",
          "text": [
            "Saving languages.csv to languages.csv\n",
            "Saving test.csv to test.csv\n",
            "Saving train.csv to train.csv\n",
            "User uploaded file \"languages.csv\" with length 129798 bytes\n",
            "User uploaded file \"test.csv\" with length 22223361 bytes\n",
            "User uploaded file \"train.csv\" with length 53428139 bytes\n"
          ],
          "name": "stdout"
        }
      ]
    },
    {
      "metadata": {
        "id": "kCP60eDl_XEq",
        "colab_type": "code",
        "colab": {}
      },
      "cell_type": "code",
      "source": [
        "import pandas as pd\n",
        "import numpy as np\n",
        "import matplotlib.pyplot as plt\n",
        "from sklearn.preprocessing import LabelEncoder\n",
        "from sklearn.model_selection import cross_val_score\n",
        "from sklearn.model_selection import train_test_split as tts\n",
        "from xgboost import XGBClassifier\n",
        "import nltk"
      ],
      "execution_count": 0,
      "outputs": []
    },
    {
      "metadata": {
        "id": "SY-9KIo7FaYP",
        "colab_type": "code",
        "colab": {}
      },
      "cell_type": "code",
      "source": [
        "train = pd.read_csv('train.csv')\n",
        "\n",
        "\n",
        "eng = {}\n",
        "fr = {}\n",
        "es = {}\n",
        "\n",
        "languages = pd.read_csv('languages.csv', header = None)\n",
        "languages.columns = ['one']\n",
        "\n",
        "\n",
        "\n",
        "text = train['Consumer-complaint-summary']\n",
        "\n",
        "for i in range(len(languages)):\n",
        "    if languages.one[i] == 'fr':\n",
        "        fr.update({i: text[i]})\n",
        "    elif languages.one[i] == 'es':\n",
        "        es.update({i: text[i]})\n",
        "    elif languages.one[i] == 'en':\n",
        "        eng.update({i:text[i]})\n"
      ],
      "execution_count": 0,
      "outputs": []
    },
    {
      "metadata": {
        "id": "AQ0EgBPcFk2C",
        "colab_type": "code",
        "colab": {}
      },
      "cell_type": "code",
      "source": [
        "\n",
        "from nltk.corpus import stopwords\n",
        "#nltk.download('stopwords')\n",
        "\n",
        "swen = set(stopwords.words('english'))\n",
        "swfr = set(stopwords.words('french'))\n",
        "swes = set(stopwords.words('spanish'))\n",
        "\n",
        "\n",
        "from nltk.stem.porter import PorterStemmer\n",
        "\n",
        "frcor = {}\n",
        "for key in fr:\n",
        "    words = fr[key]\n",
        "    words = words.lower()\n",
        "    ps = PorterStemmer()\n",
        "    words = words.split()\n",
        "    sentence = [ps.stem(word) for word in words if not word in swfr]\n",
        "    frcor.update({key:' '.join(sentence)})\n",
        "\n",
        "encor = {}\n",
        "for key in eng:\n",
        "    words = eng[key]\n",
        "    words = words.lower()\n",
        "    ps = PorterStemmer()\n",
        "    words = words.split()\n",
        "    sentence = [ps.stem(word) for word in words if not word in swen]\n",
        "    encor.update({key:' '.join(sentence)})\n",
        "\n",
        "\n",
        "escor = {}\n",
        "for key in es:\n",
        "    words = es[key]\n",
        "    words = words.lower()\n",
        "    ps = PorterStemmer()\n",
        "    words = words.split()\n",
        "    sentence = [ps.stem(word) for word in words if not word in swes]\n",
        "    escor.update({key:' '.join(sentence)})"
      ],
      "execution_count": 0,
      "outputs": []
    },
    {
      "metadata": {
        "id": "ZqA29NqiFuVS",
        "colab_type": "code",
        "colab": {}
      },
      "cell_type": "code",
      "source": [
        "from sklearn.feature_extraction.text import HashingVectorizer\n",
        "\n",
        "hven = HashingVectorizer(n_features = 3000)\n",
        "hvfr = HashingVectorizer(n_features = 2000)\n",
        "hves = HashingVectorizer(n_features = 2000)\n",
        "\n",
        "\n",
        "Xen = hven.fit_transform(encor.values()).toarray()\n",
        "Xfr = hvfr.fit_transform(frcor.values()).toarray()\n",
        "Xes = hves.fit_transform(escor.values()).toarray()\n"
      ],
      "execution_count": 0,
      "outputs": []
    },
    {
      "metadata": {
        "id": "ew1yi5U7PVQV",
        "colab_type": "code",
        "colab": {}
      },
      "cell_type": "code",
      "source": [
        "df = pd.DataFrame(index = range(len(escor) + len(encor) + len(frcor)), columns = ['delayed','language',  'Complaint-status', 'Consumer-Dispute', 'Complaint-reason'])\n",
        "\n",
        "\n",
        "c = []\n",
        "for i in range(len(train)):\n",
        "    a = train['Date-sent-to-company'][i].split('/')\n",
        "    b = train['Date-received'][i].split('/')\n",
        "    c.append(int(a[2])*365 + int(a[1])*30 + int(a[0]) - int(b[2])*365 -int(b[1])*30 -int(b[0]))\n",
        "\n",
        "\n",
        "train['delayed'] = c\n",
        "\n",
        "i = 0\n",
        "for key in encor:\n",
        "    df['delayed'][i] = train['delayed'][int(key)]\n",
        "    df['Complaint-status'][i] = train['Complaint-Status'][int(key)]\n",
        "    df['Consumer-Dispute'][i] = train['Consumer-disputes'][int(key)]\n",
        "    df['Complaint-reason'][i] = train['Complaint-reason'][int(key)]\n",
        "    df['language'][i] = languages['one'][int(key)]\n",
        "    i+=1\n",
        "\n",
        "\n",
        "\n",
        "for key in frcor:\n",
        "    df['delayed'][i] = train['delayed'][int(key)]\n",
        "    df['Complaint-status'][i] = train['Complaint-Status'][int(key)]\n",
        "    df['Consumer-Dispute'][i] = train['Consumer-disputes'][int(key)]\n",
        "    df['Complaint-reason'][i] = train['Complaint-reason'][int(key)]\n",
        "    df['language'][i] = languages['one'][int(key)]\n",
        "    i+=1\n",
        "\n",
        "for key in escor:\n",
        "    df['delayed'][i] = train['delayed'][int(key)]\n",
        "    df['Complaint-status'][i] = train['Complaint-Status'][int(key)]\n",
        "    df['Consumer-Dispute'][i] = train['Consumer-disputes'][int(key)]\n",
        "    df['Complaint-reason'][i] = train['Complaint-reason'][int(key)]\n",
        "    df['language'][i] = languages['one'][int(key)]\n",
        "    i+=1\n"
      ],
      "execution_count": 0,
      "outputs": []
    },
    {
      "metadata": {
        "id": "ABbxgr78PeW0",
        "colab_type": "code",
        "colab": {}
      },
      "cell_type": "code",
      "source": [
        "df['Consumer-Dispute'] = df['Consumer-Dispute'].fillna('not known')\n",
        "\n",
        "\n",
        "\n",
        "y = df['Complaint-status'].iloc[:].values\n",
        "\n",
        "\n",
        "from sklearn.preprocessing import LabelEncoder\n",
        "le = LabelEncoder()\n",
        "\n",
        "df = df.drop(['Complaint-status'], axis = 1)\n",
        "\n",
        "X1 = df.apply(le.fit_transform)\n",
        "\n",
        "X1 = X1.iloc[:, :].values\n"
      ],
      "execution_count": 0,
      "outputs": []
    },
    {
      "metadata": {
        "id": "tU0oYmiKPpA6",
        "colab_type": "code",
        "colab": {}
      },
      "cell_type": "code",
      "source": [
        "pdxen = np.zeros(shape = (Xen.shape[0], 4000))\n",
        "pdfr_prev = np.zeros(shape = (Xfr.shape[0], 3000))\n",
        "pdfr_post = np.zeros(shape = (Xfr.shape[0], 2000))\n",
        "pdes = np.zeros(shape = (Xes.shape[0], 5000))\n",
        "\n",
        "\n",
        "Xen = np.concatenate((Xen, pdxen), axis = 1)\n",
        "Xfr = np.concatenate((pdfr_prev, Xfr, pdfr_post), axis = 1)\n",
        "Xes = np.concatenate((pdes, Xes), axis = 1)"
      ],
      "execution_count": 0,
      "outputs": []
    },
    {
      "metadata": {
        "id": "e_wBQhZ5hyZz",
        "colab_type": "code",
        "colab": {}
      },
      "cell_type": "code",
      "source": [
        "del encor\n",
        "del frcor\n",
        "del eng\n",
        "del escor\n",
        "del fr\n",
        "del es\n",
        "del sentence\n",
        "del train\n",
        "del swen\n",
        "del swfr\n",
        "del swes\n",
        "del a\n",
        "del b\n",
        "del c\n",
        "del df\n",
        "del i\n"
      ],
      "execution_count": 0,
      "outputs": []
    },
    {
      "metadata": {
        "id": "bh-NRPgr1UZp",
        "colab_type": "code",
        "colab": {}
      },
      "cell_type": "code",
      "source": [
        "del languages"
      ],
      "execution_count": 0,
      "outputs": []
    },
    {
      "metadata": {
        "id": "ziNGW0-sPuym",
        "colab_type": "code",
        "colab": {}
      },
      "cell_type": "code",
      "source": [
        "X2 = np.concatenate((Xen, Xfr, Xes), axis = 0)\n",
        "X = np.concatenate((X1, X2), axis = 1)\n",
        "\n",
        "X_train, X_test, y_train, y_test = tts(X, y, test_size = 4500)"
      ],
      "execution_count": 0,
      "outputs": []
    },
    {
      "metadata": {
        "id": "ByDcSVNqj327",
        "colab_type": "code",
        "colab": {}
      },
      "cell_type": "code",
      "source": [
        "del Xen\n",
        "del Xfr\n",
        "del Xes\n",
        "del X\n",
        "del y"
      ],
      "execution_count": 0,
      "outputs": []
    },
    {
      "metadata": {
        "id": "kkj518O4Re5d",
        "colab_type": "code",
        "colab": {}
      },
      "cell_type": "code",
      "source": [
        "model = XGBClassifier()\n",
        "model.fit(X_train, y_train)\n",
        "del X_train\n",
        "del y_train"
      ],
      "execution_count": 0,
      "outputs": []
    },
    {
      "metadata": {
        "id": "2MM820QeRlvz",
        "colab_type": "code",
        "outputId": "73b85ea1-6391-458b-9474-e5ed7487a841",
        "colab": {
          "base_uri": "https://localhost:8080/",
          "height": 73
        }
      },
      "cell_type": "code",
      "source": [
        "y_pred = model.predict(X_test)\n",
        "from sklearn.metrics import f1_score\n",
        "fs = f1_score(y_test, y_pred, average = 'weighted')"
      ],
      "execution_count": 0,
      "outputs": [
        {
          "output_type": "stream",
          "text": [
            "/usr/local/lib/python3.6/dist-packages/sklearn/metrics/classification.py:1143: UndefinedMetricWarning: F-score is ill-defined and being set to 0.0 in labels with no predicted samples.\n",
            "  'precision', 'predicted', average, warn_for)\n"
          ],
          "name": "stderr"
        }
      ]
    },
    {
      "metadata": {
        "id": "SEXuQqcmdvKq",
        "colab_type": "code",
        "outputId": "96d53a48-98d2-4269-ec02-079b3356fc4d",
        "colab": {
          "base_uri": "https://localhost:8080/",
          "height": 35
        }
      },
      "cell_type": "code",
      "source": [
        "print('The weighted f1 score is ',fs)"
      ],
      "execution_count": 0,
      "outputs": [
        {
          "output_type": "stream",
          "text": [
            "The weighted f1 score is  0.7102678005698054\n"
          ],
          "name": "stdout"
        }
      ]
    },
    {
      "metadata": {
        "id": "h1x6aLwuljZr",
        "colab_type": "code",
        "colab": {}
      },
      "cell_type": "code",
      "source": [
        "import pickle\n",
        "pickle.dump(model, open('soc-gen_complaint.model', 'wb'))"
      ],
      "execution_count": 0,
      "outputs": []
    },
    {
      "metadata": {
        "id": "MYN_WqlexHuY",
        "colab_type": "code",
        "colab": {}
      },
      "cell_type": "code",
      "source": [
        "from google.colab import files\n",
        "\n",
        "files.download('soc-gen_complaint.model')"
      ],
      "execution_count": 0,
      "outputs": []
    },
    {
      "metadata": {
        "id": "qGIau_zUy-ju",
        "colab_type": "code",
        "colab": {}
      },
      "cell_type": "code",
      "source": [
        "m1 = pickle.load(open('soc-gen_complaint.model', 'rb'))"
      ],
      "execution_count": 0,
      "outputs": []
    },
    {
      "metadata": {
        "id": "chmffCNHzVTJ",
        "colab_type": "code",
        "outputId": "8c6bd108-5821-4a0e-8f11-a4b2429b2329",
        "colab": {
          "base_uri": "https://localhost:8080/",
          "height": 35
        }
      },
      "cell_type": "code",
      "source": [
        "(m1.predict(X_test) == 'Closed with explanation').sum()/len(y_test)"
      ],
      "execution_count": 0,
      "outputs": [
        {
          "output_type": "execute_result",
          "data": {
            "text/plain": [
              "0.988"
            ]
          },
          "metadata": {
            "tags": []
          },
          "execution_count": 19
        }
      ]
    },
    {
      "metadata": {
        "id": "QO-k5sCHzae5",
        "colab_type": "code",
        "colab": {}
      },
      "cell_type": "code",
      "source": [
        "test = pd.read_csv('test.csv')"
      ],
      "execution_count": 0,
      "outputs": []
    },
    {
      "metadata": {
        "id": "Ip5JQJhDOEE6",
        "colab_type": "code",
        "colab": {}
      },
      "cell_type": "code",
      "source": [
        "c = []\n",
        "for i in range(len(test)):\n",
        "    a = test['Date-sent-to-company'][i].split('/')\n",
        "    b = test['Date-received'][i].split('/')\n",
        "    c.append(int(a[2])*365 + int(a[1])*30 + int(a[0]) - int(b[2])*365 -int(b[1])*30 -int(b[0]))\n"
      ],
      "execution_count": 0,
      "outputs": []
    },
    {
      "metadata": {
        "id": "wcLCsUNCPD4P",
        "colab_type": "code",
        "outputId": "ebf8dbb7-c5e0-4efc-bb0e-b395c1a42e60",
        "colab": {
          "base_uri": "https://localhost:8080/",
          "height": 35
        }
      },
      "cell_type": "code",
      "source": [
        "from google.colab import drive\n",
        "drive.mount('/content/gdrive')\n",
        "\n",
        "import os \n",
        "path = os.path.abspath('/content/gdrive/My Drive/HackerEarth/Soc-Gen')"
      ],
      "execution_count": 11,
      "outputs": [
        {
          "output_type": "stream",
          "text": [
            "Drive already mounted at /content/gdrive; to attempt to forcibly remount, call drive.mount(\"/content/gdrive\", force_remount=True).\n"
          ],
          "name": "stdout"
        }
      ]
    },
    {
      "metadata": {
        "id": "KP9Y5DxM9eow",
        "colab_type": "code",
        "colab": {
          "base_uri": "https://localhost:8080/",
          "height": 197
        },
        "outputId": "bbef8170-1c88-4137-924e-69fce47a153c"
      },
      "cell_type": "code",
      "source": [
        "#!pip install langdetect\n",
        "\n",
        "from langdetect import DetectorFactory\n",
        "from langdetect import detect\n",
        "from langdetect import detect_langs \n",
        "DetectorFactory.seed = 0"
      ],
      "execution_count": 13,
      "outputs": [
        {
          "output_type": "stream",
          "text": [
            "Collecting langdetect\n",
            "\u001b[?25l  Downloading https://files.pythonhosted.org/packages/59/59/4bc44158a767a6d66de18c4136c8aa90491d56cc951c10b74dd1e13213c9/langdetect-1.0.7.zip (998kB)\n",
            "\u001b[K    100% |████████████████████████████████| 1.0MB 19.4MB/s \n",
            "\u001b[?25hRequirement already satisfied: six in /usr/local/lib/python3.6/dist-packages (from langdetect) (1.11.0)\n",
            "Building wheels for collected packages: langdetect\n",
            "  Running setup.py bdist_wheel for langdetect ... \u001b[?25l-\b \b\\\b \b|\b \bdone\n",
            "\u001b[?25h  Stored in directory: /root/.cache/pip/wheels/ec/0c/a9/1647275e7ef5014e7b83ff30105180e332867d65e7617ddafe\n",
            "Successfully built langdetect\n",
            "Installing collected packages: langdetect\n",
            "Successfully installed langdetect-1.0.7\n"
          ],
          "name": "stdout"
        }
      ]
    },
    {
      "metadata": {
        "id": "YiofXhGzEDjb",
        "colab_type": "code",
        "colab": {
          "base_uri": "https://localhost:8080/",
          "height": 899
        },
        "outputId": "270766a4-9d6b-4489-fcd9-c681aeb3c8c2"
      },
      "cell_type": "code",
      "source": [
        "test = pd.read_csv(os.path.join(path, 'test.csv'))\n",
        "print(test.columns)\n",
        "print(test.head())\n",
        "print(test.nunique())\n",
        "print(test.isnull().sum())"
      ],
      "execution_count": 14,
      "outputs": [
        {
          "output_type": "stream",
          "text": [
            "Index(['Complaint-ID', 'Date-received', 'Transaction-Type', 'Complaint-reason',\n",
            "       'Company-response', 'Date-sent-to-company', 'Consumer-disputes',\n",
            "       'Consumer-complaint-summary'],\n",
            "      dtype='object')\n",
            "  Complaint-ID Date-received         Transaction-Type  \\\n",
            "0         Te-1     8/18/2016  Bank account or service   \n",
            "1         Te-2     4/18/2016          Debt collection   \n",
            "2         Te-3     3/23/2016         Credit reporting   \n",
            "3         Te-4     6/26/2017             Student loan   \n",
            "4         Te-5     5/13/2016         Credit reporting   \n",
            "\n",
            "                          Complaint-reason  \\\n",
            "0  Account opening, closing, or management   \n",
            "1                    Communication tactics   \n",
            "2   Incorrect information on credit report   \n",
            "3     Dealing with your lender or servicer   \n",
            "4   Incorrect information on credit report   \n",
            "\n",
            "                                    Company-response Date-sent-to-company  \\\n",
            "0  Company has responded to the consumer and the ...            8/18/2016   \n",
            "1  Company believes it acted appropriately as aut...            4/20/2016   \n",
            "2                                                NaN            3/23/2016   \n",
            "3                                                NaN            6/26/2017   \n",
            "4  Company has responded to the consumer and the ...            5/13/2016   \n",
            "\n",
            "  Consumer-disputes                         Consumer-complaint-summary  \n",
            "0                No  XXXX / XXXX / 16 I called Citibank to open a c...  \n",
            "1                No  I'm struggling financially. I called and I off...  \n",
            "2                No  In XXXX of 2015, an automatic payment was conf...  \n",
            "3               NaN  I submitted a request to XXXX, which is my cur...  \n",
            "4                No  A state tax lien was filed against me XXXX / X...  \n",
            "Complaint-ID                  18543\n",
            "Date-received                   914\n",
            "Transaction-Type                 18\n",
            "Complaint-reason                147\n",
            "Company-response                 10\n",
            "Date-sent-to-company            914\n",
            "Consumer-disputes                 2\n",
            "Consumer-complaint-summary    18485\n",
            "dtype: int64\n",
            "Complaint-ID                     0\n",
            "Date-received                    0\n",
            "Transaction-Type                 0\n",
            "Complaint-reason                 0\n",
            "Company-response              9701\n",
            "Date-sent-to-company             0\n",
            "Consumer-disputes             3304\n",
            "Consumer-complaint-summary       0\n",
            "dtype: int64\n"
          ],
          "name": "stdout"
        }
      ]
    },
    {
      "metadata": {
        "id": "PNW_5c4KJx2I",
        "colab_type": "code",
        "colab": {}
      },
      "cell_type": "code",
      "source": [
        "languages = []\n",
        "for i in range(len(test)):\n",
        "  languages.append(detect(test['Consumer-complaint-summary'][i]))"
      ],
      "execution_count": 0,
      "outputs": []
    },
    {
      "metadata": {
        "id": "pQa3FKi5KAm6",
        "colab_type": "code",
        "colab": {
          "base_uri": "https://localhost:8080/",
          "height": 53
        },
        "outputId": "75a471d4-82c5-42fe-97e9-dc8018feab44"
      },
      "cell_type": "code",
      "source": [
        "languages = pd.DataFrame(languages, columns = ['one'])\n",
        "print(languages.nunique())"
      ],
      "execution_count": 19,
      "outputs": [
        {
          "output_type": "stream",
          "text": [
            "one    15\n",
            "dtype: int64\n"
          ],
          "name": "stdout"
        }
      ]
    },
    {
      "metadata": {
        "id": "MLIUgEXdK21o",
        "colab_type": "code",
        "colab": {}
      },
      "cell_type": "code",
      "source": [
        ""
      ],
      "execution_count": 0,
      "outputs": []
    }
  ]
}